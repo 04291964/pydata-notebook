{
 "cells": [
  {
   "cell_type": "markdown",
   "metadata": {},
   "source": [
    "# CHAPTER 10 Data Aggregation and Group Operations（数据汇总和组操作）\n",
    "\n",
    "\n",
    "这一章的内容：\n",
    "\n",
    "- 把一个pandas对象（series或DataFrame）按key分解为多个\n",
    "- 计算组的汇总统计值（group summary statistics），比如计数，平均值，标准差，或用户自己定义的函数\n",
    "- 应用组内的转换或其他一些操作，比如标准化，线性回归，排序，子集选择\n",
    "- 计算透视表和交叉列表\n",
    "- 进行分位数分析和其他一些统计组分析\n",
    "\n",
    "# 10.1 GroupBy Mechanics（分组机制）\n",
    "\n",
    "Hadley Wickham，是很多R语言有名库的作者，他描述group operation(组操作)为split-apply-combine(分割-应用-结合)。第一个阶段，存储于series或DataFrame中的数据，根据不同的keys会被split（分割）为多个组。而且分割的操作是在一个特定的axis（轴）上。例如，DataFrame能按行（axis=0）或列（axis=1）来分组。之后，我们可以把函数apply（应用）在每一个组上，产生一个新的值。最后，所以函数产生的结果被combine(结合)为一个结果对象（result object）。下面是一个图示：\n",
    "\n",
    "![](http://oydgk2hgw.bkt.clouddn.com/pydata-book/ikthz.png)\n",
    "\n",
    "每一个用于分组的key能有很多形式，而且keys也不必都是一种类型：\n",
    "\n",
    "- 含有值的list或array的长度，与按axis分组后的长度是一样的\n",
    "- 值的名字指明的是DataFrame中的列名\n",
    "- 一个dict或Series，给出一个对应关系，用于对应按轴分组后的值与组的名字\n",
    "- 能在axis index（轴索引）上被调用的函数，或index上的labels（标签）\n",
    "\n"
   ]
  },
  {
   "cell_type": "code",
   "execution_count": null,
   "metadata": {
    "collapsed": true
   },
   "outputs": [],
   "source": [
    "\n"
   ]
  }
 ],
 "metadata": {
  "anaconda-cloud": {},
  "kernelspec": {
   "display_name": "Python [py35]",
   "language": "python",
   "name": "Python [py35]"
  },
  "language_info": {
   "codemirror_mode": {
    "name": "ipython",
    "version": 3
   },
   "file_extension": ".py",
   "mimetype": "text/x-python",
   "name": "python",
   "nbconvert_exporter": "python",
   "pygments_lexer": "ipython3",
   "version": "3.5.2"
  }
 },
 "nbformat": 4,
 "nbformat_minor": 0
}
